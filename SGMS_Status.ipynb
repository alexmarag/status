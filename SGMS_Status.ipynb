{
 "cells": [
  {
   "cell_type": "markdown",
   "metadata": {},
   "source": [
    "## The top sequence in early-types is produced by UM530 shown below\n",
    "\n",
    "![title](images/Early_Types_SGMS_2arcsec-multi-comparison.png)\n",
    "\n",
    "![title](images/UM530_grid.jpg)\n",
    "\n",
    "## The low mass outliers are due to the outmost aperture regions falling on the edge of the ellipse definned by the petroR90 radius\n",
    "\n",
    "![title](images/Late_Types_SGMS_2arcsec-multi-comparison.pdf)\n",
    "\n",
    "![title](images/NGC4592_grid.jpg)"
   ]
  }
 ],
 "metadata": {
  "kernelspec": {
   "display_name": "Python 2",
   "language": "python",
   "name": "python2"
  },
  "language_info": {
   "codemirror_mode": {
    "name": "ipython",
    "version": 2
   },
   "file_extension": ".py",
   "mimetype": "text/x-python",
   "name": "python",
   "nbconvert_exporter": "python",
   "pygments_lexer": "ipython2",
   "version": "2.7.6"
  }
 },
 "nbformat": 4,
 "nbformat_minor": 0
}
